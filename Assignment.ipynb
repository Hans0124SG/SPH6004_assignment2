{
 "cells": [
  {
   "cell_type": "code",
   "execution_count": 25,
   "metadata": {},
   "outputs": [],
   "source": [
    "import pandas as pd"
   ]
  },
  {
   "cell_type": "code",
   "execution_count": 26,
   "metadata": {},
   "outputs": [
    {
     "data": {
      "text/html": [
       "<div>\n",
       "<style scoped>\n",
       "    .dataframe tbody tr th:only-of-type {\n",
       "        vertical-align: middle;\n",
       "    }\n",
       "\n",
       "    .dataframe tbody tr th {\n",
       "        vertical-align: top;\n",
       "    }\n",
       "\n",
       "    .dataframe thead th {\n",
       "        text-align: right;\n",
       "    }\n",
       "</style>\n",
       "<table border=\"1\" class=\"dataframe\">\n",
       "  <thead>\n",
       "    <tr style=\"text-align: right;\">\n",
       "      <th></th>\n",
       "      <th>subject_id</th>\n",
       "      <th>hadm_id</th>\n",
       "      <th>stay_id</th>\n",
       "      <th>gender</th>\n",
       "      <th>dod</th>\n",
       "      <th>admittime</th>\n",
       "      <th>dischtime</th>\n",
       "      <th>los_hospital</th>\n",
       "      <th>admission_age</th>\n",
       "      <th>ethnicity</th>\n",
       "      <th>...</th>\n",
       "      <th>ck_cpk_min</th>\n",
       "      <th>ck_cpk_max</th>\n",
       "      <th>ck_mb_min</th>\n",
       "      <th>ck_mb_max</th>\n",
       "      <th>ggt_min</th>\n",
       "      <th>ggt_max</th>\n",
       "      <th>ld_ldh_min</th>\n",
       "      <th>ld_ldh_max</th>\n",
       "      <th>mech_vent</th>\n",
       "      <th>vasopressin</th>\n",
       "    </tr>\n",
       "  </thead>\n",
       "  <tbody>\n",
       "    <tr>\n",
       "      <th>0</th>\n",
       "      <td>10018501</td>\n",
       "      <td>28479513</td>\n",
       "      <td>34739077</td>\n",
       "      <td>M</td>\n",
       "      <td>NaN</td>\n",
       "      <td>2141-07-30 22:34:00</td>\n",
       "      <td>2141-08-05 18:06:00</td>\n",
       "      <td>5.813889</td>\n",
       "      <td>83</td>\n",
       "      <td>WHITE</td>\n",
       "      <td>...</td>\n",
       "      <td>124.0</td>\n",
       "      <td>124.0</td>\n",
       "      <td>NaN</td>\n",
       "      <td>NaN</td>\n",
       "      <td>NaN</td>\n",
       "      <td>NaN</td>\n",
       "      <td>NaN</td>\n",
       "      <td>NaN</td>\n",
       "      <td>0</td>\n",
       "      <td>0</td>\n",
       "    </tr>\n",
       "    <tr>\n",
       "      <th>1</th>\n",
       "      <td>11424857</td>\n",
       "      <td>22010683</td>\n",
       "      <td>33113817</td>\n",
       "      <td>M</td>\n",
       "      <td>NaN</td>\n",
       "      <td>2155-06-03 18:10:00</td>\n",
       "      <td>2155-06-21 12:58:00</td>\n",
       "      <td>17.783333</td>\n",
       "      <td>51</td>\n",
       "      <td>WHITE</td>\n",
       "      <td>...</td>\n",
       "      <td>NaN</td>\n",
       "      <td>NaN</td>\n",
       "      <td>2.0</td>\n",
       "      <td>2.0</td>\n",
       "      <td>NaN</td>\n",
       "      <td>NaN</td>\n",
       "      <td>238.0</td>\n",
       "      <td>281.0</td>\n",
       "      <td>1</td>\n",
       "      <td>0</td>\n",
       "    </tr>\n",
       "    <tr>\n",
       "      <th>2</th>\n",
       "      <td>11797249</td>\n",
       "      <td>29600029</td>\n",
       "      <td>34926613</td>\n",
       "      <td>F</td>\n",
       "      <td>NaN</td>\n",
       "      <td>2159-11-02 09:24:00</td>\n",
       "      <td>2159-11-09 15:45:00</td>\n",
       "      <td>7.264583</td>\n",
       "      <td>36</td>\n",
       "      <td>BLACK/AFRICAN AMERICAN</td>\n",
       "      <td>...</td>\n",
       "      <td>32.0</td>\n",
       "      <td>32.0</td>\n",
       "      <td>NaN</td>\n",
       "      <td>NaN</td>\n",
       "      <td>NaN</td>\n",
       "      <td>NaN</td>\n",
       "      <td>153.0</td>\n",
       "      <td>153.0</td>\n",
       "      <td>0</td>\n",
       "      <td>0</td>\n",
       "    </tr>\n",
       "    <tr>\n",
       "      <th>3</th>\n",
       "      <td>12196836</td>\n",
       "      <td>21710144</td>\n",
       "      <td>31460719</td>\n",
       "      <td>M</td>\n",
       "      <td>NaN</td>\n",
       "      <td>2121-02-18 02:41:00</td>\n",
       "      <td>2121-02-22 17:15:00</td>\n",
       "      <td>4.606944</td>\n",
       "      <td>56</td>\n",
       "      <td>WHITE</td>\n",
       "      <td>...</td>\n",
       "      <td>NaN</td>\n",
       "      <td>NaN</td>\n",
       "      <td>NaN</td>\n",
       "      <td>NaN</td>\n",
       "      <td>NaN</td>\n",
       "      <td>NaN</td>\n",
       "      <td>NaN</td>\n",
       "      <td>NaN</td>\n",
       "      <td>0</td>\n",
       "      <td>0</td>\n",
       "    </tr>\n",
       "    <tr>\n",
       "      <th>4</th>\n",
       "      <td>12242414</td>\n",
       "      <td>26119789</td>\n",
       "      <td>30542485</td>\n",
       "      <td>M</td>\n",
       "      <td>NaN</td>\n",
       "      <td>2140-11-09 00:00:00</td>\n",
       "      <td>2140-11-13 16:45:00</td>\n",
       "      <td>4.697917</td>\n",
       "      <td>73</td>\n",
       "      <td>WHITE</td>\n",
       "      <td>...</td>\n",
       "      <td>NaN</td>\n",
       "      <td>NaN</td>\n",
       "      <td>NaN</td>\n",
       "      <td>NaN</td>\n",
       "      <td>NaN</td>\n",
       "      <td>NaN</td>\n",
       "      <td>NaN</td>\n",
       "      <td>NaN</td>\n",
       "      <td>0</td>\n",
       "      <td>0</td>\n",
       "    </tr>\n",
       "  </tbody>\n",
       "</table>\n",
       "<p>5 rows × 146 columns</p>\n",
       "</div>"
      ],
      "text/plain": [
       "   subject_id   hadm_id   stay_id gender  dod            admittime  \\\n",
       "0    10018501  28479513  34739077      M  NaN  2141-07-30 22:34:00   \n",
       "1    11424857  22010683  33113817      M  NaN  2155-06-03 18:10:00   \n",
       "2    11797249  29600029  34926613      F  NaN  2159-11-02 09:24:00   \n",
       "3    12196836  21710144  31460719      M  NaN  2121-02-18 02:41:00   \n",
       "4    12242414  26119789  30542485      M  NaN  2140-11-09 00:00:00   \n",
       "\n",
       "             dischtime  los_hospital  admission_age               ethnicity  \\\n",
       "0  2141-08-05 18:06:00      5.813889             83                   WHITE   \n",
       "1  2155-06-21 12:58:00     17.783333             51                   WHITE   \n",
       "2  2159-11-09 15:45:00      7.264583             36  BLACK/AFRICAN AMERICAN   \n",
       "3  2121-02-22 17:15:00      4.606944             56                   WHITE   \n",
       "4  2140-11-13 16:45:00      4.697917             73                   WHITE   \n",
       "\n",
       "   ...  ck_cpk_min  ck_cpk_max  ck_mb_min ck_mb_max ggt_min  ggt_max  \\\n",
       "0  ...       124.0       124.0        NaN       NaN     NaN      NaN   \n",
       "1  ...         NaN         NaN        2.0       2.0     NaN      NaN   \n",
       "2  ...        32.0        32.0        NaN       NaN     NaN      NaN   \n",
       "3  ...         NaN         NaN        NaN       NaN     NaN      NaN   \n",
       "4  ...         NaN         NaN        NaN       NaN     NaN      NaN   \n",
       "\n",
       "   ld_ldh_min  ld_ldh_max  mech_vent  vasopressin  \n",
       "0         NaN         NaN          0            0  \n",
       "1       238.0       281.0          1            0  \n",
       "2       153.0       153.0          0            0  \n",
       "3         NaN         NaN          0            0  \n",
       "4         NaN         NaN          0            0  \n",
       "\n",
       "[5 rows x 146 columns]"
      ]
     },
     "execution_count": 26,
     "metadata": {},
     "output_type": "execute_result"
    }
   ],
   "source": [
    "df = pd.read_csv('data.csv')\n",
    "df = df.drop(['subject_id-2', 'hadm_id-2', 'subject_id-3', 'stay_id-2', 'subject_id-4', 'stay_id-3','glucose_min', 'glucose_max', 'glucose_mean'], axis=1)\n",
    "df = df.rename(columns={\"glucose_min-2\": \"glucose_min\", \"glucose_max-2\": \"glucose_max\"})\n",
    "df.head()"
   ]
  },
  {
   "cell_type": "code",
   "execution_count": 27,
   "metadata": {},
   "outputs": [],
   "source": [
    "outcome = 'hospital_expire_flag'\n",
    "\n",
    "general_cols = ['subject_id', 'hadm_id', 'stay_id', 'gender', 'dod', 'admittime',\n",
    "       'dischtime', 'los_hospital', 'admission_age', 'ethnicity',\n",
    "       'hospstay_seq', 'first_hosp_stay', 'icu_intime',\n",
    "       'icu_outtime', 'los_icu', 'icustay_seq', 'first_icu_stay']\n",
    "charlson_cols = ['age_score',\n",
    "       'myocardial_infarct', 'congestive_heart_failure',\n",
    "       'peripheral_vascular_disease', 'cerebrovascular_disease', 'dementia',\n",
    "       'chronic_pulmonary_disease', 'rheumatic_disease',\n",
    "       'peptic_ulcer_disease', 'mild_liver_disease', 'diabetes_without_cc',\n",
    "       'diabetes_with_cc', 'paraplegia', 'renal_disease', 'malignant_cancer',\n",
    "       'severe_liver_disease', 'metastatic_solid_tumor', 'aids',\n",
    "       'charlson_comorbidity_index']\n",
    "vitals_cols = ['heart_rate_min', 'heart_rate_max',\n",
    "       'heart_rate_mean', 'sbp_min', 'sbp_max', 'sbp_mean', 'dbp_min',\n",
    "       'dbp_max', 'dbp_mean', 'mbp_min', 'mbp_max', 'mbp_mean',\n",
    "       'resp_rate_min', 'resp_rate_max', 'resp_rate_mean', 'temperature_min',\n",
    "       'temperature_max', 'temperature_mean', 'spo2_min', 'spo2_max',\n",
    "       'spo2_mean']\n",
    "labs_cols = ['hematocrit_min', 'hematocrit_max', 'hemoglobin_min',\n",
    "       'hemoglobin_max', 'platelets_min', 'platelets_max', 'wbc_min',\n",
    "       'wbc_max', 'albumin_min', 'albumin_max', 'globulin_min', 'globulin_max',\n",
    "       'total_protein_min', 'total_protein_max', 'aniongap_min',\n",
    "       'aniongap_max', 'bicarbonate_min', 'bicarbonate_max', 'bun_min',\n",
    "       'bun_max', 'calcium_min', 'calcium_max', 'chloride_min', 'chloride_max',\n",
    "       'creatinine_min', 'creatinine_max', 'glucose_min', 'glucose_max',\n",
    "       'sodium_min', 'sodium_max', 'potassium_min', 'potassium_max',\n",
    "       'abs_basophils_min', 'abs_basophils_max', 'abs_eosinophils_min',\n",
    "       'abs_eosinophils_max', 'abs_lymphocytes_min', 'abs_lymphocytes_max',\n",
    "       'abs_monocytes_min', 'abs_monocytes_max', 'abs_neutrophils_min',\n",
    "       'abs_neutrophils_max', 'atyps_min', 'atyps_max', 'bands_min',\n",
    "       'bands_max', 'imm_granulocytes_min', 'imm_granulocytes_max',\n",
    "       'metas_min', 'metas_max', 'nrbc_min', 'nrbc_max', 'd_dimer_min',\n",
    "       'd_dimer_max', 'fibrinogen_min', 'fibrinogen_max', 'thrombin_min',\n",
    "       'thrombin_max', 'inr_min', 'inr_max', 'pt_min', 'pt_max', 'ptt_min',\n",
    "       'ptt_max', 'alt_min', 'alt_max', 'alp_min', 'alp_max', 'ast_min',\n",
    "       'ast_max', 'amylase_min', 'amylase_max', 'bilirubin_total_min',\n",
    "       'bilirubin_total_max', 'bilirubin_direct_min', 'bilirubin_direct_max',\n",
    "       'bilirubin_indirect_min', 'bilirubin_indirect_max', 'ck_cpk_min',\n",
    "       'ck_cpk_max', 'ck_mb_min', 'ck_mb_max', 'ggt_min', 'ggt_max',\n",
    "       'ld_ldh_min', 'ld_ldh_max']\n",
    "mv_vaso_cols = ['mech_vent', 'vasopressin']"
   ]
  },
  {
   "cell_type": "code",
   "execution_count": 170,
   "metadata": {},
   "outputs": [],
   "source": [
    "from sklearn.feature_selection import VarianceThreshold\n",
    "from sklearn.svm import LinearSVC\n",
    "from sklearn.feature_selection import SelectFromModel\n",
    "from sklearn.model_selection import train_test_split\n",
    "from sklearn.linear_model import LogisticRegression, LassoCV\n",
    "from sklearn.impute import SimpleImputer\n",
    "from sklearn.preprocessing import StandardScaler\n",
    "from sklearn.tree import DecisionTreeClassifier\n",
    "from sklearn.ensemble import RandomForestClassifier, AdaBoostClassifier, GradientBoostingClassifier\n",
    "import numpy as np\n",
    "import matplotlib.pyplot as plt\n",
    "from sklearn.metrics import accuracy_score, roc_auc_score"
   ]
  },
  {
   "cell_type": "code",
   "execution_count": 29,
   "metadata": {},
   "outputs": [
    {
     "data": {
      "text/plain": [
       "WHITE                     33725\n",
       "Others                     8562\n",
       "BLACK/AFRICAN AMERICAN     4575\n",
       "HISPANIC/LATINO            1739\n",
       "ASIAN                      1447\n",
       "Name: ethnicity, dtype: int64"
      ]
     },
     "execution_count": 29,
     "metadata": {},
     "output_type": "execute_result"
    }
   ],
   "source": [
    "df.ethnicity = df.ethnicity.apply(lambda x: \"Others\" if x in ['UNKNOWN', 'OTHER', 'UNABLE TO OBTAIN', 'AMERICAN INDIAN/ALASKA NATIVE'] else x)\n",
    "df.ethnicity.value_counts()"
   ]
  },
  {
   "cell_type": "code",
   "execution_count": 150,
   "metadata": {},
   "outputs": [],
   "source": [
    "X = df[['gender', 'admission_age', 'ethnicity'] + charlson_cols + vitals_cols + labs_cols + mv_vaso_cols]\n",
    "X = pd.get_dummies(X, columns=['gender', 'ethnicity']).drop(['gender_F', 'ethnicity_WHITE'], axis=1)\n",
    "X = X.drop(X.columns[X.isna().all()], axis=1)\n",
    "feature_names = X.columns\n",
    "y = df[outcome]\n",
    "imp = SimpleImputer(missing_values=np.nan, strategy='mean', verbose=1)\n",
    "X = imp.fit_transform(X)"
   ]
  },
  {
   "cell_type": "code",
   "execution_count": 151,
   "metadata": {},
   "outputs": [],
   "source": [
    "X_train, X_test, y_train, y_test = train_test_split(X, y, test_size=0.3)"
   ]
  },
  {
   "cell_type": "code",
   "execution_count": 156,
   "metadata": {},
   "outputs": [
    {
     "name": "stdout",
     "output_type": "stream",
     "text": [
      "Index(['admission_age', 'age_score', 'cerebrovascular_disease',\n",
      "       'heart_rate_min', 'heart_rate_mean', 'dbp_mean', 'mbp_mean',\n",
      "       'resp_rate_mean', 'temperature_mean', 'spo2_min', 'hematocrit_min',\n",
      "       'hemoglobin_max', 'wbc_min', 'aniongap_min', 'bun_min', 'sodium_max',\n",
      "       'bilirubin_indirect_min', 'mech_vent', 'vasopressin',\n",
      "       'ethnicity_Others'],\n",
      "      dtype='object')\n"
     ]
    }
   ],
   "source": [
    "sscaler = StandardScaler().fit(X_train)\n",
    "X_train = sscaler.transform(X_train)\n",
    "X_test = sscaler.transform(X_test)\n",
    "sfm = SelectFromModel(LassoCV(max_iter=10000, cv=5), threshold=-np.inf, max_features=20).fit(X_train, y_train)\n",
    "selected_features = feature_names[sfm.get_support()]\n",
    "print(selected_features)\n",
    "X_train = sfm.transform(X_train)\n",
    "X_test = sfm.transform(X_test)"
   ]
  },
  {
   "cell_type": "code",
   "execution_count": 199,
   "metadata": {},
   "outputs": [
    {
     "data": {
      "text/plain": [
       "AdaBoostClassifier()"
      ]
     },
     "execution_count": 199,
     "metadata": {},
     "output_type": "execute_result"
    }
   ],
   "source": [
    "# model = LogisticRegression(max_iter=10000)\n",
    "# model = LogisticRegression(max_iter=10000, penalty='l2', solver='saga')\n",
    "# model = LogisticRegression(max_iter=10000, penalty='l1', solver='saga')\n",
    "# model = DecisionTreeClassifier()\n",
    "# model = LinearSVC(max_iter=10000)\n",
    "# model = RandomForestClassifier()\n",
    "model = AdaBoostClassifier()\n",
    "# model = GradientBoostingClassifier()\n",
    "model.fit(X_train, y_train)"
   ]
  },
  {
   "cell_type": "code",
   "execution_count": 200,
   "metadata": {},
   "outputs": [
    {
     "name": "stdout",
     "output_type": "stream",
     "text": [
      "Accuracy: 0.9137384751519996\n",
      "AUROC: 0.6486943967664377\n"
     ]
    }
   ],
   "source": [
    "# Training data performance\n",
    "pred = model.predict(X_train)\n",
    "true = y_train\n",
    "print('Accuracy:', accuracy_score(true, pred))\n",
    "print('AUROC:', roc_auc_score(true, pred))"
   ]
  },
  {
   "cell_type": "code",
   "execution_count": 201,
   "metadata": {},
   "outputs": [
    {
     "name": "stdout",
     "output_type": "stream",
     "text": [
      "Accuracy: 0.9106893106893107\n",
      "AUROC: 0.645442778874374\n"
     ]
    }
   ],
   "source": [
    "# Test data performance\n",
    "pred = model.predict(X_test)\n",
    "true = y_test\n",
    "print('Accuracy:', accuracy_score(true, pred))\n",
    "print('AUROC:', roc_auc_score(true, pred))"
   ]
  },
  {
   "cell_type": "code",
   "execution_count": 205,
   "metadata": {},
   "outputs": [
    {
     "name": "stdout",
     "output_type": "stream",
     "text": [
      "admission_age 0.06\n",
      "age_score 0.0\n",
      "cerebrovascular_disease 0.02\n",
      "heart_rate_min 0.06\n",
      "heart_rate_mean 0.06\n",
      "dbp_mean 0.0\n",
      "mbp_mean 0.08\n",
      "resp_rate_mean 0.1\n",
      "temperature_mean 0.04\n",
      "spo2_min 0.1\n",
      "hematocrit_min 0.0\n",
      "hemoglobin_max 0.04\n",
      "wbc_min 0.1\n",
      "aniongap_min 0.08\n",
      "bun_min 0.08\n",
      "sodium_max 0.04\n",
      "bilirubin_indirect_min 0.02\n",
      "mech_vent 0.04\n",
      "vasopressin 0.06\n",
      "ethnicity_Others 0.02\n"
     ]
    }
   ],
   "source": [
    "for i, j in zip(selected_features, model.feature_importances_):\n",
    "    print(i, j)"
   ]
  },
  {
   "cell_type": "code",
   "execution_count": null,
   "metadata": {},
   "outputs": [],
   "source": []
  }
 ],
 "metadata": {
  "kernelspec": {
   "display_name": "Python 3",
   "language": "python",
   "name": "python3"
  },
  "language_info": {
   "codemirror_mode": {
    "name": "ipython",
    "version": 3
   },
   "file_extension": ".py",
   "mimetype": "text/x-python",
   "name": "python",
   "nbconvert_exporter": "python",
   "pygments_lexer": "ipython3",
   "version": "3.7.3"
  }
 },
 "nbformat": 4,
 "nbformat_minor": 2
}
