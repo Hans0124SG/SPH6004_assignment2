{
  "nbformat": 4,
  "nbformat_minor": 0,
  "metadata": {
    "colab": {
      "name": "SPH6004_Assignment2_MIMICIII_RNN",
      "provenance": [],
      "collapsed_sections": []
    },
    "kernelspec": {
      "display_name": "Python 3",
      "name": "python3"
    },
    "language_info": {
      "name": "python"
    }
  },
  "cells": [
    {
      "cell_type": "code",
      "metadata": {
        "id": "EskNMtnu3Z9Y"
      },
      "source": [
        "from time import time\n",
        "import os\n",
        "import math\n",
        "import numpy as np\n",
        "import pandas as pd\n",
        "\n",
        "from keras.models import Model, Input, load_model #model_from_json\n",
        "from keras.layers import Masking, Flatten, Embedding, Dense, LSTM, TimeDistributed\n",
        "from keras.callbacks import TensorBoard, ModelCheckpoint\n",
        "from keras import regularizers\n",
        "from keras import optimizers\n",
        "\n",
        "from sklearn.preprocessing import RobustScaler, MinMaxScaler\n",
        "from sklearn.metrics import confusion_matrix, accuracy_score, roc_auc_score, classification_report\n",
        "from sklearn.metrics import recall_score, precision_score\n",
        "from sklearn.model_selection import StratifiedKFold"
      ],
      "execution_count": null,
      "outputs": []
    },
    {
      "cell_type": "code",
      "metadata": {
        "id": "UAPTqDFSldgf"
      },
      "source": [
        "def PadSequences(df, lb, time_steps, pad_value=-100):\n",
        "    ''' Takes a file path for the dataframe to operate on.  \n",
        "        ub is an upper bound to truncate on. All entries are padded to their ubber bound '''\n",
        "    df = df.groupby('stay_key').apply(lambda group: group[-time_steps:] if len(group) > time_steps else group).reset_index(drop=True)\n",
        "    df = df.groupby('stay_key').apply(lambda group: pd.concat([group, pd.DataFrame(pad_value*np.ones((time_steps-len(group), len(df.columns))), columns=df.columns)], axis=0)).reset_index(drop=True)\n",
        "    return df\n",
        "\n",
        "def ZScoreNormalize(matrix):\n",
        "    ''' Performs Z Score Normalization for 3rd order tensors \n",
        "        matrix should be (batchsize, time_steps, features) \n",
        "        Padded time steps should be masked with np.nan '''\n",
        "    x_matrix = matrix[:,:,0:-1]\n",
        "    y_matrix = matrix[:,:,-1]\n",
        "    y_matrix = y_matrix.reshape(y_matrix.shape[0],y_matrix.shape[1],1)\n",
        "    means = np.nanmean(x_matrix, axis=(0,1))\n",
        "    stds = np.nanstd(x_matrix, axis=(0,1))\n",
        "    x_matrix = x_matrix-means\n",
        "    x_matrix = x_matrix / stds\n",
        "    matrix = np.concatenate([x_matrix, y_matrix], axis=2)\n",
        "    return matrix"
      ],
      "execution_count": null,
      "outputs": []
    },
    {
      "cell_type": "code",
      "metadata": {
        "id": "QVaQ9uSI4Qp9"
      },
      "source": [
        "# folder for tmp files\n",
        "tmp_output_dir = \"./mimic_tmp\""
      ],
      "execution_count": null,
      "outputs": []
    },
    {
      "cell_type": "code",
      "metadata": {
        "id": "MqyK6LyqmJYC"
      },
      "source": [
        "# readin MIMIC-III data\n",
        "df_data = pd.read_table(\"drive/MyDrive/time_series.csv\", delimiter=\",\")"
      ],
      "execution_count": null,
      "outputs": []
    },
    {
      "cell_type": "code",
      "metadata": {
        "id": "T-w5L60R9eIb"
      },
      "source": [
        "cols = ['Time', 'stay_id', 'stay_key', 'hadm_id', 'age', 'gender', 'Heart Rate',\n",
        "       'Respiratory Rate', 'SpO2/SaO2', 'pH', 'Potassium', 'Calcium',\n",
        "       'Glucose', 'Sodium', 'HCO3', 'White Blood Cells', 'Hemoglobin',\n",
        "       'Red Blood Cells', 'Platelet Count', 'Weight', 'Urea Nitrogen',\n",
        "       'Creatinine', 'Blood Pressure', '1 hours urine output',\n",
        "       '6 hours urine output', 'AKI', 'gcs',\n",
        "       'ventilation', 'vasoactive medications', 'sedative medications']\n",
        "df_data['stay_key'] = df_data['stay_id']\n",
        "# Missing values imputation\n",
        "df_filled = df_data.groupby('stay_id')[cols].ffill().bfill()\n",
        "\n",
        "# AKI_hour: the time of AKI if the sample have AKI\n",
        "df_filled['AKI_hour'] = df_filled.apply(lambda x: x['Time'] if x['AKI'] == 1 else 0, axis=1)"
      ],
      "execution_count": null,
      "outputs": []
    },
    {
      "cell_type": "code",
      "metadata": {
        "id": "U_T9AElE-Ho4"
      },
      "source": [
        "# === option 1: use the next hour AKI as the current timepoint outcome via shift by ID\n",
        "# df_filled['AKI_next'] = df_filled.groupby('stay_key')['AKI'].shift(-1)"
      ],
      "execution_count": null,
      "outputs": []
    },
    {
      "cell_type": "code",
      "metadata": {
        "id": "pO_8It5jsm7I"
      },
      "source": [
        "# === option 2: use the next 6 hours as the current timepoint outcome. Cut the timepoint after AKI accured\n",
        "\n",
        "#=== keep the patients if time_steps > 6\n",
        "df_filled = df_filled.groupby('stay_key').filter(lambda group: len(group) > 6).reset_index(drop=True)\n",
        "AKI_time = df_filled[df_filled['AKI'] == 1].groupby('stay_key')['AKI_hour'].first()\n",
        "df_new = pd.merge(df_filled, AKI_time, left_on=['stay_key'], right_index=True, how='left').drop('AKI_hour_x', axis=1).rename({'AKI_hour_y': 'AKI_time'}, axis=1)\n",
        "df_new['time_to_AKI'] = (pd.to_datetime(df_new['AKI_time']) - pd.to_datetime(df_new['Time'])) / np.timedelta64(1, 'h')\n",
        "#=== remove the last 6 time steps of each patient\n",
        "df_new = df_new.groupby('stay_key').apply(lambda group: group[:-6]).reset_index(drop=True)\n",
        "#=== only keep the time_step before the first AKI\n",
        "df_new = df_new[~(df_new['time_to_AKI'] <= 0)]\n",
        "#=== if time_to_AKI < 6, outcome = 1\n",
        "df_new['AKI_next'] = df_new.apply(lambda x: 1 if x['time_to_AKI'] < 6 else 0, axis=1)"
      ],
      "execution_count": null,
      "outputs": []
    },
    {
      "cell_type": "code",
      "metadata": {
        "colab": {
          "base_uri": "https://localhost:8080/",
          "height": 482
        },
        "id": "0nmJuz52CDsy",
        "outputId": "e2f42e07-6807-4233-c231-9ca5d99fe669"
      },
      "source": [
        "#=== plot the time steps\n",
        "print(df_new.shape)\n",
        "time_steps_count = df_new.groupby('stay_key')['Time'].count()\n",
        "print(time_steps_count.describe(percentiles=[0.8,0.85,0.9]))\n",
        "import matplotlib.pyplot as plt\n",
        "plt.hist(time_steps_count)\n",
        "plt.xlabel(\"Time_step length\")\n",
        "plt.ylabel(\"Counts\")\n",
        "#take 100 >80% as the time_stemps"
      ],
      "execution_count": null,
      "outputs": [
        {
          "output_type": "stream",
          "text": [
            "(2448522, 29)\n",
            "count    33964.000000\n",
            "mean        72.091685\n",
            "std         86.011604\n",
            "min          1.000000\n",
            "50%         43.000000\n",
            "80%        100.000000\n",
            "85%        123.000000\n",
            "90%        162.000000\n",
            "max        709.000000\n",
            "Name: Time, dtype: float64\n"
          ],
          "name": "stdout"
        },
        {
          "output_type": "execute_result",
          "data": {
            "text/plain": [
              "Text(0, 0.5, 'Counts')"
            ]
          },
          "metadata": {
            "tags": []
          },
          "execution_count": 47
        },
        {
          "output_type": "display_data",
          "data": {
            "image/png": "[encoded data removed]",
            "text/plain": [
              "<Figure size 432x288 with 1 Axes>"
            ]
          },
          "metadata": {
            "tags": [],
            "needs_background": "light"
          }
        }
      ]
    },
    {
      "cell_type": "code",
      "metadata": {
        "id": "ourX4cIrXOm2"
      },
      "source": [
        "df_new = df_new.drop(['AKI','AKI_time','time_to_AKI'],axis=1).reset_index(drop=True)\n",
        "time_steps =100"
      ],
      "execution_count": null,
      "outputs": []
    },
    {
      "cell_type": "code",
      "metadata": {
        "id": "XXoN97L0jlO4"
      },
      "source": [
        "from keras.layers.core import Dense, Reshape, Lambda, RepeatVector, Permute, Flatten\n",
        "from keras.layers import multiply\n",
        "def attention_3d_block(inputs, TIME_STEPS):\n",
        "    \"\"\"\n",
        "    inputs.shape = (batch_size, time_steps, input_dim)\n",
        "    \"\"\" \n",
        "    input_dim = int(inputs.shape[2])\n",
        "    a = Permute((2, 1))(inputs)\n",
        "    a = Reshape((input_dim, TIME_STEPS))(a)\n",
        "    a = Dense(TIME_STEPS, activation='softmax')(a)\n",
        "    a_probs = Permute((2, 1), name='attention_vec')(a)\n",
        "    output_attention_mul = multiply([inputs, a_probs])\n",
        "    return output_attention_mul"
      ],
      "execution_count": null,
      "outputs": []
    },
    {
      "cell_type": "code",
      "metadata": {
        "id": "j_PQiMlbZZnZ"
      },
      "source": [
        "def return_data(balancer=True, target='AKI_next',return_cols=False, \n",
        "         tt_split=0.7, val_percentage=0.8, cross_val=False,\n",
        "         mask=False, time_steps=14, split=True, pad=True):\n",
        "  \"\"\"\n",
        "  Returns synthetic or real data depending on parameter\n",
        "  Args:\n",
        "  -----\n",
        "      balance : whether or not to balance positive and negative time windows\n",
        "      return_cols : return columns used for this RNN\n",
        "      tt_split : fraction of dataset to use fro training, remaining is used for test\n",
        "      cross_val : parameter that returns entire matrix unsplit and unbalanced for cross val purposes\n",
        "      mask : 24 hour mask, default is False\n",
        "      dataframe : returns dataframe rather than numpy ndarray\n",
        "      time_steps : 14 by default, required for padding\n",
        "      split : creates test train splits\n",
        "      pad : by default is True, will pad to the time_step value\n",
        "  Returns:\n",
        "  -------\n",
        "      Training and validation splits as well as the number of columns for use in RNN\n",
        "  \"\"\"\n",
        "\n",
        "  df = df_new.select_dtypes(exclude=['object'])\n",
        "\n",
        "  if pad:\n",
        "    pad_value=0\n",
        "    df = PadSequences(df, 0, time_steps, pad_value=pad_value)\n",
        "    print('There are {0} rows in the df after padding'.format(len(df)))\n",
        "\n",
        "  COLUMNS = list(df.drop(['stay_key','hadm_id',target],axis =1).columns)\n",
        "  if return_cols:\n",
        "    return COLUMNS\n",
        "\n",
        "  MATRIX = df[COLUMNS+[target]].values\n",
        "  MATRIX = MATRIX.reshape(int(MATRIX.shape[0]/time_steps),time_steps,MATRIX.shape[1])\n",
        "\n",
        "  ## note we are creating a second order bool matirx\n",
        "  bool_matrix = (~MATRIX.any(axis=2))\n",
        "  MATRIX[bool_matrix] = np.nan\n",
        "  MATRIX = ZScoreNormalize(MATRIX)\n",
        "  ## restore 3D shape to boolmatrix for consistency\n",
        "  bool_matrix = np.isnan(MATRIX)\n",
        "  MATRIX[bool_matrix] = pad_value\n",
        "\n",
        "  permutation = np.random.permutation(MATRIX.shape[0])\n",
        "  MATRIX = MATRIX[permutation]\n",
        "  bool_matrix = bool_matrix[permutation]\n",
        "\n",
        "  X_MATRIX = MATRIX[:,:,0:-1]\n",
        "  Y_MATRIX = MATRIX[:,:,-1]\n",
        "\n",
        "  x_bool_matrix = bool_matrix[:,:,0:-1]\n",
        "  y_bool_matrix = bool_matrix[:,:,-1]\n",
        "\n",
        "  X_TRAIN = X_MATRIX[0:int(tt_split*X_MATRIX.shape[0]),:,:]\n",
        "  Y_TRAIN = Y_MATRIX[0:int(tt_split*Y_MATRIX.shape[0]),:]\n",
        "  Y_TRAIN = Y_TRAIN.reshape(Y_TRAIN.shape[0], Y_TRAIN.shape[1], 1)\n",
        "\n",
        "  X_VAL = X_MATRIX[int(tt_split*X_MATRIX.shape[0]):int(val_percentage*X_MATRIX.shape[0])]\n",
        "  Y_VAL = Y_MATRIX[int(tt_split*Y_MATRIX.shape[0]):int(val_percentage*Y_MATRIX.shape[0])]\n",
        "  Y_VAL = Y_VAL.reshape(Y_VAL.shape[0], Y_VAL.shape[1], 1)\n",
        "\n",
        "  x_val_boolmat = x_bool_matrix[int(tt_split*x_bool_matrix.shape[0]):int(val_percentage*x_bool_matrix.shape[0])]\n",
        "  y_val_boolmat = y_bool_matrix[int(tt_split*y_bool_matrix.shape[0]):int(val_percentage*y_bool_matrix.shape[0])]\n",
        "  y_val_boolmat = y_val_boolmat.reshape(y_val_boolmat.shape[0],y_val_boolmat.shape[1],1)\n",
        "\n",
        "  X_TEST = X_MATRIX[int(val_percentage*X_MATRIX.shape[0])::]\n",
        "  Y_TEST = Y_MATRIX[int(val_percentage*X_MATRIX.shape[0])::]\n",
        "  Y_TEST = Y_TEST.reshape(Y_TEST.shape[0], Y_TEST.shape[1], 1)\n",
        "\n",
        "  x_test_boolmat = x_bool_matrix[int(val_percentage*x_bool_matrix.shape[0])::]\n",
        "  y_test_boolmat = y_bool_matrix[int(val_percentage*y_bool_matrix.shape[0])::]\n",
        "  y_test_boolmat = y_test_boolmat.reshape(y_test_boolmat.shape[0],y_test_boolmat.shape[1],1)\n",
        "\n",
        "  X_TEST[x_test_boolmat] = pad_value\n",
        "  Y_TEST[y_test_boolmat] = pad_value\n",
        "\n",
        "  if balancer:\n",
        "    TRAIN = np.concatenate([X_TRAIN, Y_TRAIN], axis=2)\n",
        "    print(np.where((TRAIN[:,:,-1] == 1).any(axis=1))[0])\n",
        "    pos_ind = np.unique(np.where((TRAIN[:,:,-1] == 1).any(axis=1))[0])\n",
        "    print(pos_ind)\n",
        "    np.random.shuffle(pos_ind)\n",
        "    neg_ind = np.unique(np.where(~(TRAIN[:,:,-1] == 1).any(axis=1))[0])\n",
        "    print(neg_ind)\n",
        "    np.random.shuffle(neg_ind)\n",
        "    length = min(pos_ind.shape[0], neg_ind.shape[0])\n",
        "    total_ind = np.hstack([pos_ind[0:length], neg_ind[0:length]])\n",
        "    np.random.shuffle(total_ind)\n",
        "    ind = total_ind\n",
        "    \n",
        "    X_TRAIN = TRAIN[ind,:,0:-1]\n",
        "    Y_TRAIN = TRAIN[ind,:,-1]\n",
        "    Y_TRAIN = Y_TRAIN.reshape(Y_TRAIN.shape[0], Y_TRAIN.shape[1], 1)\n",
        "\n",
        "  no_feature_cols = X_TRAIN.shape[2]\n",
        "\n",
        "  if mask:\n",
        "    print('MASK ACTIVATED')\n",
        "    X_TRAIN = np.concatenate([np.zeros((X_TRAIN.shape[0], 1, X_TRAIN.shape[2])), X_TRAIN[:,1::,::]], axis=1)\n",
        "    X_VAL = np.concatenate([np.zeros((X_VAL.shape[0], 1, X_VAL.shape[2])), X_VAL[:,1::,::]], axis=1)\n",
        "\n",
        "  if cross_val:\n",
        "    return (MATRIX, no_feature_cols)\n",
        "\n",
        "  if split == True:\n",
        "    return (X_TRAIN, X_VAL, Y_TRAIN, Y_VAL, no_feature_cols,\n",
        "            X_TEST, Y_TEST, x_test_boolmat, y_test_boolmat,\n",
        "            x_val_boolmat, y_val_boolmat)\n",
        "\n",
        "  elif split == False:\n",
        "    return (np.concatenate((X_TRAIN,X_VAL), axis=0),\n",
        "            np.concatenate((Y_TRAIN,Y_VAL), axis=0), no_feature_cols)"
      ],
      "execution_count": null,
      "outputs": []
    },
    {
      "cell_type": "code",
      "metadata": {
        "id": "QutEYoyxy1l1"
      },
      "source": [
        "def build_model(no_feature_cols=None, time_steps=7, output_summary=False):\n",
        "  \"\"\"\n",
        "  Assembles RNN with input from return_data function\n",
        "  Args:\n",
        "  ----\n",
        "  no_feature_cols : The number of features being used AKA matrix rank\n",
        "  time_steps : The number of days in a time block\n",
        "  output_summary : Defaults to False on returning model summary\n",
        "  Returns:\n",
        "  -------\n",
        "  Keras model object\n",
        "  \"\"\"\n",
        "  print(\"time_steps:{0}|no_feature_cols:{1}\".format(time_steps,no_feature_cols))\n",
        "  input_layer = Input(shape=(time_steps, no_feature_cols))\n",
        "  x = attention_3d_block(input_layer, time_steps)\n",
        "  x = Masking(mask_value=0, input_shape=(time_steps, no_feature_cols))(x)\n",
        "  x = LSTM(256, return_sequences=True)(x)\n",
        "  preds = TimeDistributed(Dense(1, activation=\"sigmoid\"))(x)\n",
        "  model = Model(inputs=input_layer, outputs=preds)\n",
        "\n",
        "  RMS = optimizers.RMSprop(lr=0.001, rho=0.9, epsilon=1e-08)\n",
        "  model.compile(optimizer=RMS, loss='binary_crossentropy', metrics=['acc'])\n",
        "\n",
        "  if output_summary:\n",
        "    model.summary()\n",
        "  return model"
      ],
      "execution_count": null,
      "outputs": []
    },
    {
      "cell_type": "code",
      "metadata": {
        "id": "NOOO9VTrYRA_"
      },
      "source": [
        "def train(model_name=\"MIMIC_AKI\", target='AKI_next',\n",
        "          balancer=True, predict=False, return_model=False,\n",
        "          n_percentage=1.0, time_steps=14, epochs=10):\n",
        "  \"\"\"\n",
        "  Use Keras model.fit using parameter inputs\n",
        "  Args:\n",
        "  ----\n",
        "  model_name : Parameter used for naming the checkpoint_dir\n",
        "  Return:\n",
        "  -------\n",
        "  Nonetype. Fits model only.\n",
        "  \"\"\"\n",
        "  (X_TRAIN, X_VAL, Y_TRAIN, Y_VAL, no_feature_cols,\n",
        "   X_TEST, Y_TEST, x_boolmat_test, y_boolmat_test,\n",
        "   x_boolmat_val, y_boolmat_val) = return_data(balancer=False, target=target,\n",
        "                        pad=True, split=True, time_steps=time_steps,mask=True)  \n",
        "\n",
        "  features = return_data(return_cols=True,target=target, pad=True, split=True,\n",
        "                         time_steps=time_steps)\n",
        "\n",
        "  X_TRAIN = X_TRAIN[0:int(n_percentage*X_TRAIN.shape[0])]\n",
        "  Y_TRAIN = Y_TRAIN[0:int(n_percentage*Y_TRAIN.shape[0])]\n",
        "\n",
        "  #build model\n",
        "  model = build_model(no_feature_cols=no_feature_cols, output_summary=True,\n",
        "                      time_steps=time_steps)\n",
        "\n",
        "  #init callbacks\n",
        "  tb_callback = TensorBoard(log_dir='{2}/logs/{0}_{1}.log'.format(model_name, time,tmp_output_dir),\n",
        "    histogram_freq=0,\n",
        "    write_grads=False,\n",
        "    write_images=True,\n",
        "    write_graph=True)\n",
        "\n",
        "  #Make checkpoint dir and init checkpointer\n",
        "  checkpoint_dir = \"{1}/saved_models/{0}\".format(model_name,tmp_output_dir)\n",
        "\n",
        "  if not os.path.exists(checkpoint_dir):\n",
        "    os.makedirs(checkpoint_dir)\n",
        "\n",
        "  checkpointer = ModelCheckpoint(\n",
        "    filepath=checkpoint_dir+\"/model.{epoch:02d}-{val_loss:.2f}.hdf5\",\n",
        "    monitor='val_loss',\n",
        "    verbose=0,\n",
        "    save_best_only=True,\n",
        "    save_weights_only=False,\n",
        "    mode='auto',\n",
        "    period=1)\n",
        "\n",
        "  #fit\n",
        "  model.fit(x=X_TRAIN,y=Y_TRAIN,batch_size=16,epochs=epochs,\n",
        "    callbacks=[tb_callback], # checkpointer],\n",
        "    validation_data=(X_VAL, Y_VAL),\n",
        "    shuffle=True)\n",
        "\n",
        "  model.save('{1}/saved_models/{0}.h5'.format(model_name,tmp_output_dir))\n",
        "\n",
        "  if predict:\n",
        "    print('TARGET: {0}'.format(target))\n",
        "    Y_PRED = model.predict(X_TEST)\n",
        "    Y_PRED = Y_PRED[~y_boolmat_test]\n",
        "    np.unique(Y_PRED)\n",
        "    Y_TEST = Y_TEST[~y_boolmat_test]\n",
        "    Y_PRED_TRAIN = model.predict(X_TRAIN)\n",
        "    print('Confusion Matrix Validation')\n",
        "    print(confusion_matrix(Y_TEST, np.around(Y_PRED)))\n",
        "    print('Validation Accuracy')\n",
        "    print(accuracy_score(Y_TEST, np.around(Y_PRED)))\n",
        "    print('ROC AUC SCORE VAL')\n",
        "    print(roc_auc_score(Y_TEST, Y_PRED))\n",
        "    print('CLASSIFICATION REPORT VAL')\n",
        "    print(classification_report(Y_TEST, np.around(Y_PRED)))\n",
        "\n",
        "  if return_model:\n",
        "    return model"
      ],
      "execution_count": null,
      "outputs": []
    },
    {
      "cell_type": "code",
      "metadata": {
        "colab": {
          "base_uri": "https://localhost:8080/"
        },
        "id": "mA_U3-OYHTuj",
        "outputId": "210f044a-6ce6-4d33-eda6-225bffc0a616"
      },
      "source": [
        "if __name__ == \"__main__\":\n",
        "\n",
        "    train(model_name='mimic_AKI', epochs=10, predict=True, target='AKI_next', time_steps=time_steps)"
      ],
      "execution_count": null,
      "outputs": [
        {
          "output_type": "stream",
          "text": [
            "There are 3396400 rows in the df after padding\n",
            "(33964, 100)\n",
            "(33964, 100, 25)\n",
            "(25,)\n",
            "(25,)\n",
            "(33964, 100, 25)\n",
            "(33964, 100, 25)\n",
            "(33964, 100, 1)\n",
            "MASK ACTIVATED\n",
            "There are 3396400 rows in the df after padding\n",
            "time_steps:100|no_feature_cols:25\n",
            "Model: \"model_3\"\n",
            "__________________________________________________________________________________________________\n",
            "Layer (type)                    Output Shape         Param #     Connected to                     \n",
            "==================================================================================================\n",
            "input_4 (InputLayer)            [(None, 100, 25)]    0                                            \n",
            "__________________________________________________________________________________________________\n",
            "permute_3 (Permute)             (None, 25, 100)      0           input_4[0][0]                    \n",
            "__________________________________________________________________________________________________\n",
            "reshape_3 (Reshape)             (None, 25, 100)      0           permute_3[0][0]                  \n",
            "__________________________________________________________________________________________________\n",
            "dense_6 (Dense)                 (None, 25, 100)      10100       reshape_3[0][0]                  \n",
            "__________________________________________________________________________________________________\n",
            "attention_vec (Permute)         (None, 100, 25)      0           dense_6[0][0]                    \n",
            "__________________________________________________________________________________________________\n",
            "multiply_3 (Multiply)           (None, 100, 25)      0           input_4[0][0]                    \n",
            "                                                                 attention_vec[0][0]              \n",
            "__________________________________________________________________________________________________\n",
            "masking_3 (Masking)             (None, 100, 25)      0           multiply_3[0][0]                 \n",
            "__________________________________________________________________________________________________\n",
            "lstm_3 (LSTM)                   (None, 100, 256)     288768      masking_3[0][0]                  \n",
            "__________________________________________________________________________________________________\n",
            "time_distributed_3 (TimeDistrib (None, 100, 1)       257         lstm_3[0][0]                     \n",
            "==================================================================================================\n",
            "Total params: 299,125\n",
            "Trainable params: 299,125\n",
            "Non-trainable params: 0\n",
            "__________________________________________________________________________________________________\n",
            "WARNING:tensorflow:`period` argument is deprecated. Please use `save_freq` to specify the frequency in number of batches seen.\n",
            "Epoch 1/10\n",
            " 235/1486 [===>..........................] - ETA: 7:15 - loss: 0.0848 - acc: 0.9576"
          ],
          "name": "stdout"
        }
      ]
    }
  ]
}