{
 "cells": [
  {
   "cell_type": "code",
   "execution_count": 213,
   "metadata": {},
   "outputs": [],
   "source": [
    "import pandas as pd\n",
    "import numpy as np\n",
    "import sklearn\n",
    "import matplotlib.pyplot as plt\n",
    "from sklearn.metrics import accuracy_score, roc_auc_score\n",
    "from sklearn.model_selection import train_test_split"
   ]
  },
  {
   "cell_type": "code",
   "execution_count": 214,
   "metadata": {},
   "outputs": [],
   "source": [
    "df = pd.read_csv('time_series.csv')"
   ]
  },
  {
   "cell_type": "code",
   "execution_count": 215,
   "metadata": {},
   "outputs": [],
   "source": [
    "df['stay_key'] = df['stay_id']"
   ]
  },
  {
   "cell_type": "code",
   "execution_count": 216,
   "metadata": {},
   "outputs": [],
   "source": [
    "cols = ['Time', 'stay_id', 'stay_key', 'hadm_id', 'age', 'gender', 'Heart Rate',\n",
    "       'Respiratory Rate', 'SpO2/SaO2', 'pH', 'Potassium', 'Calcium',\n",
    "       'Glucose', 'Sodium', 'HCO3', 'White Blood Cells', 'Hemoglobin',\n",
    "       'Red Blood Cells', 'Platelet Count', 'Weight', 'Urea Nitrogen',\n",
    "       'Creatinine', 'Blood Pressure', '1 hours urine output',\n",
    "       '6 hours urine output', 'AKI', 'gcs',\n",
    "       'ventilation', 'vasoactive medications', 'sedative medications']"
   ]
  },
  {
   "cell_type": "code",
   "execution_count": 219,
   "metadata": {},
   "outputs": [],
   "source": [
    "filled = df.groupby('stay_id')[cols].ffill().bfill()"
   ]
  },
  {
   "cell_type": "code",
   "execution_count": 220,
   "metadata": {},
   "outputs": [],
   "source": [
    "first_dataset = filled.groupby('stay_key').first()"
   ]
  },
  {
   "cell_type": "code",
   "execution_count": 221,
   "metadata": {},
   "outputs": [],
   "source": [
    "# filled['AKI_next_hour'] = filled.groupby('stay_key')['AKI'].shift(-1)\n",
    "# filled = filled[~filled['AKI_next_hour'].isna()]\n",
    "filled['AKI_next_6_hour'] = filled.groupby('stay_key')['AKI'].rolling(6).max().shift(-6).reset_index(0,drop=True)\n",
    "filled = filled[~filled['AKI_next_6_hour'].isna()]"
   ]
  },
  {
   "cell_type": "code",
   "execution_count": 222,
   "metadata": {},
   "outputs": [],
   "source": [
    "dataset = pd.merge(filled, first_dataset, left_on='stay_key', right_index=True, suffixes=('_current', '_first'))\n",
    "dataset['time_in_ICU'] = (pd.to_datetime(dataset['Time_current']) - pd.to_datetime(dataset['Time_first'])) / np.timedelta64(1, 'h')"
   ]
  },
  {
   "cell_type": "code",
   "execution_count": 223,
   "metadata": {},
   "outputs": [
    {
     "data": {
      "text/html": [
       "<div>\n",
       "<style scoped>\n",
       "    .dataframe tbody tr th:only-of-type {\n",
       "        vertical-align: middle;\n",
       "    }\n",
       "\n",
       "    .dataframe tbody tr th {\n",
       "        vertical-align: top;\n",
       "    }\n",
       "\n",
       "    .dataframe thead th {\n",
       "        text-align: right;\n",
       "    }\n",
       "</style>\n",
       "<table border=\"1\" class=\"dataframe\">\n",
       "  <thead>\n",
       "    <tr style=\"text-align: right;\">\n",
       "      <th></th>\n",
       "      <th>Time_current</th>\n",
       "      <th>stay_key</th>\n",
       "      <th>hadm_id_current</th>\n",
       "      <th>age_current</th>\n",
       "      <th>gender_current</th>\n",
       "      <th>Heart Rate_current</th>\n",
       "      <th>Respiratory Rate_current</th>\n",
       "      <th>SpO2/SaO2_current</th>\n",
       "      <th>pH_current</th>\n",
       "      <th>Potassium_current</th>\n",
       "      <th>...</th>\n",
       "      <th>Creatinine_first</th>\n",
       "      <th>Blood Pressure_first</th>\n",
       "      <th>1 hours urine output_first</th>\n",
       "      <th>6 hours urine output_first</th>\n",
       "      <th>AKI_first</th>\n",
       "      <th>gcs_first</th>\n",
       "      <th>ventilation_first</th>\n",
       "      <th>vasoactive medications_first</th>\n",
       "      <th>sedative medications_first</th>\n",
       "      <th>time_in_ICU</th>\n",
       "    </tr>\n",
       "  </thead>\n",
       "  <tbody>\n",
       "    <tr>\n",
       "      <th>0</th>\n",
       "      <td>2111-09-04 04:00:00</td>\n",
       "      <td>33225641</td>\n",
       "      <td>27845175</td>\n",
       "      <td>32</td>\n",
       "      <td>0</td>\n",
       "      <td>104.0</td>\n",
       "      <td>21.0</td>\n",
       "      <td>97.0</td>\n",
       "      <td>7.38</td>\n",
       "      <td>4.4</td>\n",
       "      <td>...</td>\n",
       "      <td>0.4</td>\n",
       "      <td>99.0</td>\n",
       "      <td>0.0</td>\n",
       "      <td>0.0</td>\n",
       "      <td>0</td>\n",
       "      <td>15.0</td>\n",
       "      <td>0</td>\n",
       "      <td>0</td>\n",
       "      <td>1</td>\n",
       "      <td>0.0</td>\n",
       "    </tr>\n",
       "    <tr>\n",
       "      <th>1</th>\n",
       "      <td>2111-09-04 05:00:00</td>\n",
       "      <td>33225641</td>\n",
       "      <td>27845175</td>\n",
       "      <td>32</td>\n",
       "      <td>0</td>\n",
       "      <td>104.0</td>\n",
       "      <td>25.0</td>\n",
       "      <td>95.0</td>\n",
       "      <td>7.38</td>\n",
       "      <td>4.4</td>\n",
       "      <td>...</td>\n",
       "      <td>0.4</td>\n",
       "      <td>99.0</td>\n",
       "      <td>0.0</td>\n",
       "      <td>0.0</td>\n",
       "      <td>0</td>\n",
       "      <td>15.0</td>\n",
       "      <td>0</td>\n",
       "      <td>0</td>\n",
       "      <td>1</td>\n",
       "      <td>1.0</td>\n",
       "    </tr>\n",
       "    <tr>\n",
       "      <th>2</th>\n",
       "      <td>2111-09-04 06:00:00</td>\n",
       "      <td>33225641</td>\n",
       "      <td>27845175</td>\n",
       "      <td>32</td>\n",
       "      <td>0</td>\n",
       "      <td>120.0</td>\n",
       "      <td>18.0</td>\n",
       "      <td>98.0</td>\n",
       "      <td>7.38</td>\n",
       "      <td>4.4</td>\n",
       "      <td>...</td>\n",
       "      <td>0.4</td>\n",
       "      <td>99.0</td>\n",
       "      <td>0.0</td>\n",
       "      <td>0.0</td>\n",
       "      <td>0</td>\n",
       "      <td>15.0</td>\n",
       "      <td>0</td>\n",
       "      <td>0</td>\n",
       "      <td>1</td>\n",
       "      <td>2.0</td>\n",
       "    </tr>\n",
       "    <tr>\n",
       "      <th>3</th>\n",
       "      <td>2111-09-04 07:00:00</td>\n",
       "      <td>33225641</td>\n",
       "      <td>27845175</td>\n",
       "      <td>32</td>\n",
       "      <td>0</td>\n",
       "      <td>106.0</td>\n",
       "      <td>18.0</td>\n",
       "      <td>98.0</td>\n",
       "      <td>7.38</td>\n",
       "      <td>4.4</td>\n",
       "      <td>...</td>\n",
       "      <td>0.4</td>\n",
       "      <td>99.0</td>\n",
       "      <td>0.0</td>\n",
       "      <td>0.0</td>\n",
       "      <td>0</td>\n",
       "      <td>15.0</td>\n",
       "      <td>0</td>\n",
       "      <td>0</td>\n",
       "      <td>1</td>\n",
       "      <td>3.0</td>\n",
       "    </tr>\n",
       "    <tr>\n",
       "      <th>4</th>\n",
       "      <td>2111-09-04 08:00:00</td>\n",
       "      <td>33225641</td>\n",
       "      <td>27845175</td>\n",
       "      <td>32</td>\n",
       "      <td>0</td>\n",
       "      <td>103.0</td>\n",
       "      <td>17.5</td>\n",
       "      <td>98.0</td>\n",
       "      <td>7.28</td>\n",
       "      <td>4.4</td>\n",
       "      <td>...</td>\n",
       "      <td>0.4</td>\n",
       "      <td>99.0</td>\n",
       "      <td>0.0</td>\n",
       "      <td>0.0</td>\n",
       "      <td>0</td>\n",
       "      <td>15.0</td>\n",
       "      <td>0</td>\n",
       "      <td>0</td>\n",
       "      <td>1</td>\n",
       "      <td>4.0</td>\n",
       "    </tr>\n",
       "  </tbody>\n",
       "</table>\n",
       "<p>5 rows × 59 columns</p>\n",
       "</div>"
      ],
      "text/plain": [
       "          Time_current  stay_key  hadm_id_current  age_current  \\\n",
       "0  2111-09-04 04:00:00  33225641         27845175           32   \n",
       "1  2111-09-04 05:00:00  33225641         27845175           32   \n",
       "2  2111-09-04 06:00:00  33225641         27845175           32   \n",
       "3  2111-09-04 07:00:00  33225641         27845175           32   \n",
       "4  2111-09-04 08:00:00  33225641         27845175           32   \n",
       "\n",
       "   gender_current  Heart Rate_current  Respiratory Rate_current  \\\n",
       "0               0               104.0                      21.0   \n",
       "1               0               104.0                      25.0   \n",
       "2               0               120.0                      18.0   \n",
       "3               0               106.0                      18.0   \n",
       "4               0               103.0                      17.5   \n",
       "\n",
       "   SpO2/SaO2_current  pH_current  Potassium_current  ...  Creatinine_first  \\\n",
       "0               97.0        7.38                4.4  ...               0.4   \n",
       "1               95.0        7.38                4.4  ...               0.4   \n",
       "2               98.0        7.38                4.4  ...               0.4   \n",
       "3               98.0        7.38                4.4  ...               0.4   \n",
       "4               98.0        7.28                4.4  ...               0.4   \n",
       "\n",
       "   Blood Pressure_first  1 hours urine output_first  \\\n",
       "0                  99.0                         0.0   \n",
       "1                  99.0                         0.0   \n",
       "2                  99.0                         0.0   \n",
       "3                  99.0                         0.0   \n",
       "4                  99.0                         0.0   \n",
       "\n",
       "   6 hours urine output_first  AKI_first  gcs_first  ventilation_first  \\\n",
       "0                         0.0          0       15.0                  0   \n",
       "1                         0.0          0       15.0                  0   \n",
       "2                         0.0          0       15.0                  0   \n",
       "3                         0.0          0       15.0                  0   \n",
       "4                         0.0          0       15.0                  0   \n",
       "\n",
       "   vasoactive medications_first  sedative medications_first  time_in_ICU  \n",
       "0                             0                           1          0.0  \n",
       "1                             0                           1          1.0  \n",
       "2                             0                           1          2.0  \n",
       "3                             0                           1          3.0  \n",
       "4                             0                           1          4.0  \n",
       "\n",
       "[5 rows x 59 columns]"
      ]
     },
     "execution_count": 223,
     "metadata": {},
     "output_type": "execute_result"
    }
   ],
   "source": [
    "dataset.head()"
   ]
  },
  {
   "cell_type": "code",
   "execution_count": 257,
   "metadata": {},
   "outputs": [],
   "source": [
    "first_ts_features = ['Heart Rate_first', 'Respiratory Rate_first',\n",
    "       'SpO2/SaO2_first', 'pH_first', 'Potassium_first', 'Calcium_first',\n",
    "       'Glucose_first', 'Sodium_first', 'HCO3_first',\n",
    "       'White Blood Cells_first', 'Hemoglobin_first', 'Red Blood Cells_first',\n",
    "       'Platelet Count_first', 'Weight_first', 'Urea Nitrogen_first',\n",
    "       'Creatinine_first', 'Blood Pressure_first',\n",
    "       '1 hours urine output_first', '6 hours urine output_first', 'AKI_first',\n",
    "       'gcs_first', 'ventilation_first', 'vasoactive medications_first',\n",
    "       'sedative medications_first']\n",
    "current_ts_features = ['Heart Rate_current', 'Respiratory Rate_current',\n",
    "       'SpO2/SaO2_current', 'pH_current', 'Potassium_current',\n",
    "       'Calcium_current', 'Glucose_current', 'Sodium_current', 'HCO3_current',\n",
    "       'White Blood Cells_current', 'Hemoglobin_current',\n",
    "       'Red Blood Cells_current', 'Platelet Count_current', 'Weight_current',\n",
    "       'Urea Nitrogen_current', 'Creatinine_current', 'Blood Pressure_current',\n",
    "       '1 hours urine output_current', '6 hours urine output_current',\n",
    "       'AKI_current', 'gcs_current', 'ventilation_current',\n",
    "       'vasoactive medications_current', 'sedative medications_current'\n",
    "#                        , 'time_in_ICU'\n",
    "                      ]\n",
    "demo_features = ['age_first', 'gender_first']\n",
    "# features = first_ts_features + current_ts_features + demo_features\n",
    "features = first_ts_features + current_ts_features + demo_features\n",
    "target = 'AKI_next_6_hour'"
   ]
  },
  {
   "cell_type": "code",
   "execution_count": 258,
   "metadata": {},
   "outputs": [],
   "source": [
    "stays = dataset['stay_key'].unique()\n",
    "total_icu_stays = len(stays)\n",
    "np.random.seed(42)\n",
    "np.random.shuffle(stays)\n",
    "train_stays = dataset[dataset['stay_key'].isin(stays[:30000])]\n",
    "X_train, y_train = train_stays[features], train_stays[target]\n",
    "test_stays = dataset[dataset['stay_key'].isin(stays[30000:])]\n",
    "X_test, y_test = test_stays[features], test_stays[target]"
   ]
  },
  {
   "cell_type": "code",
   "execution_count": 259,
   "metadata": {},
   "outputs": [],
   "source": [
    "from sklearn import linear_model\n",
    "from sklearn.ensemble import RandomForestClassifier, AdaBoostClassifier, GradientBoostingClassifier"
   ]
  },
  {
   "cell_type": "code",
   "execution_count": 260,
   "metadata": {},
   "outputs": [
    {
     "data": {
      "text/plain": [
       "GradientBoostingClassifier()"
      ]
     },
     "execution_count": 260,
     "metadata": {},
     "output_type": "execute_result"
    }
   ],
   "source": [
    "# model = linear_model.LogisticRegression(max_iter=10000)\n",
    "model = GradientBoostingClassifier()\n",
    "model.fit(X_train, y_train)"
   ]
  },
  {
   "cell_type": "code",
   "execution_count": 261,
   "metadata": {},
   "outputs": [
    {
     "name": "stdout",
     "output_type": "stream",
     "text": [
      "Accuracy: 0.9611193603655054\n",
      "AUROC: 0.6127712610038117\n"
     ]
    }
   ],
   "source": [
    "# Training data performance\n",
    "pred = model.predict(X_train)\n",
    "true = y_train\n",
    "print('Accuracy:', accuracy_score(true, pred))\n",
    "print('AUROC:', roc_auc_score(true, pred))"
   ]
  },
  {
   "cell_type": "code",
   "execution_count": 262,
   "metadata": {},
   "outputs": [
    {
     "name": "stdout",
     "output_type": "stream",
     "text": [
      "Accuracy: 0.9609303953186461\n",
      "AUROC: 0.5993553866985276\n"
     ]
    }
   ],
   "source": [
    "# Test data performance\n",
    "pred = model.predict(X_test)\n",
    "true = y_test\n",
    "print('Accuracy:', accuracy_score(true, pred))\n",
    "print('AUROC:', roc_auc_score(true, pred))"
   ]
  },
  {
   "cell_type": "code",
   "execution_count": 85,
   "metadata": {},
   "outputs": [],
   "source": [
    "# from lifelines import CoxPHFitter\n",
    "# train, test = train_test_split(dataset[features +['duration', target_binary]], test_size=0.2)\n",
    "# cph = CoxPHFitter()\n",
    "# cph.fit(train, duration_col='duration', event_col=target_binary)\n",
    "# cph.print_summary()\n",
    "# cph.predict_survival_function(test)\n",
    "# pd.DataFrame([cph.predict_median(train), train['duration'], train['AKI_happen']]).T\n",
    "# cph.predict_partial_hazard(test)"
   ]
  },
  {
   "cell_type": "code",
   "execution_count": null,
   "metadata": {},
   "outputs": [],
   "source": []
  }
 ],
 "metadata": {
  "kernelspec": {
   "display_name": "mykernal",
   "language": "python",
   "name": "mykernal"
  },
  "language_info": {
   "codemirror_mode": {
    "name": "ipython",
    "version": 3
   },
   "file_extension": ".py",
   "mimetype": "text/x-python",
   "name": "python",
   "nbconvert_exporter": "python",
   "pygments_lexer": "ipython3",
   "version": "3.7.3"
  }
 },
 "nbformat": 4,
 "nbformat_minor": 2
}
