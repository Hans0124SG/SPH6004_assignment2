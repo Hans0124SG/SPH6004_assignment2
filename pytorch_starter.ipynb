{
 "cells": [
  {
   "cell_type": "code",
   "execution_count": 42,
   "metadata": {},
   "outputs": [],
   "source": [
    "import torch\n",
    "from torch.utils.data import Dataset, DataLoader\n",
    "import pandas as pd\n",
    "import numpy as np"
   ]
  },
  {
   "cell_type": "code",
   "execution_count": 48,
   "metadata": {},
   "outputs": [],
   "source": [
    "cols = ['Time', 'stay_id', 'stay_key', 'hadm_id', 'age', 'gender', 'Heart Rate',\n",
    "       'Respiratory Rate', 'SpO2/SaO2', 'pH', 'Potassium', 'Calcium',\n",
    "       'Glucose', 'Sodium', 'HCO3', 'White Blood Cells', 'Hemoglobin',\n",
    "       'Red Blood Cells', 'Platelet Count', 'Weight', 'Urea Nitrogen',\n",
    "       'Creatinine', 'Blood Pressure', '1 hours urine output',\n",
    "       '6 hours urine output', 'AKI', 'gcs',\n",
    "       'ventilation', 'vasoactive medications', 'sedative medications']\n",
    "features = ['time_since', 'age', 'gender', 'Heart Rate',\n",
    "       'Respiratory Rate', 'SpO2/SaO2', 'pH', 'Potassium', 'Calcium',\n",
    "       'Glucose', 'Sodium', 'HCO3', 'White Blood Cells', 'Hemoglobin',\n",
    "       'Red Blood Cells', 'Platelet Count', 'Weight', 'Urea Nitrogen',\n",
    "       'Creatinine', 'Blood Pressure', '1 hours urine output',\n",
    "       '6 hours urine output', 'gcs',\n",
    "       'ventilation', 'vasoactive medications', 'sedative medications']"
   ]
  },
  {
   "cell_type": "code",
   "execution_count": 73,
   "metadata": {},
   "outputs": [],
   "source": [
    "class AKIDataset(Dataset):\n",
    "\n",
    "    def __init__(self, csv_file):\n",
    "        self.dataframe = pd.read_csv(csv_file)\n",
    "        self.dataframe['stay_key'] = self.dataframe['stay_id']\n",
    "        self.dataframe = self.dataframe.groupby('stay_id')[cols].ffill().bfill()\n",
    "        in_time = self.dataframe.groupby('stay_key')[['Time']].first()\n",
    "        self.dataframe = pd.merge(self.dataframe, in_time, left_on=['stay_key'], right_index=True, how='left')\n",
    "        self.dataframe['time_since'] = (pd.to_datetime(self.dataframe['Time_x']) - pd.to_datetime(self.dataframe['Time_y'])) / np.timedelta64(1, 'h')\n",
    "        self.stay_ids = self.dataframe.stay_key.unique()\n",
    "\n",
    "    def __len__(self):\n",
    "        return len(self.stay_ids)\n",
    "\n",
    "    def __getitem__(self, idx):\n",
    "        \n",
    "        data = self.dataframe[self.dataframe.stay_key == self.stay_ids[idx]][features].to_numpy()\n",
    "        label = self.dataframe[self.dataframe.stay_key == self.stay_ids[idx]]['AKI'].to_numpy()\n",
    "        \n",
    "        return data, label"
   ]
  },
  {
   "cell_type": "code",
   "execution_count": 74,
   "metadata": {},
   "outputs": [],
   "source": [
    "ds = AKIDataset('time_series.csv')"
   ]
  },
  {
   "cell_type": "code",
   "execution_count": 82,
   "metadata": {},
   "outputs": [
    {
     "data": {
      "text/plain": [
       "((203, 27), (203,))"
      ]
     },
     "execution_count": 82,
     "metadata": {},
     "output_type": "execute_result"
    }
   ],
   "source": [
    "ds[3][0].shape, ds[3][1].shape"
   ]
  },
  {
   "cell_type": "code",
   "execution_count": null,
   "metadata": {},
   "outputs": [],
   "source": []
  }
 ],
 "metadata": {
  "kernelspec": {
   "display_name": "Python 3",
   "language": "python",
   "name": "python3"
  },
  "language_info": {
   "codemirror_mode": {
    "name": "ipython",
    "version": 3
   },
   "file_extension": ".py",
   "mimetype": "text/x-python",
   "name": "python",
   "nbconvert_exporter": "python",
   "pygments_lexer": "ipython3",
   "version": "3.7.3"
  }
 },
 "nbformat": 4,
 "nbformat_minor": 2
}
